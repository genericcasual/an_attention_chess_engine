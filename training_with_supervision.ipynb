{
 "cells": [
  {
   "cell_type": "markdown",
   "metadata": {},
   "source": [
    "think about piece colour as a separate vetor, 2 training runs"
   ]
  },
  {
   "cell_type": "code",
   "execution_count": 1,
   "metadata": {},
   "outputs": [],
   "source": [
    "!rm -rf __pycache__/\n",
    "from flax import nnx\n",
    "import chess, chess.pgn\n",
    "import optax\n",
    "import flax\n",
    "import jax\n",
    "import jax.numpy as jnp\n",
    "import orbax.checkpoint as ocp\n",
    "import time\n",
    "\n",
    "from utils import *\n",
    "from etils.epath import Path\n",
    "from collections.abc import Sequence\n",
    "import zstandard as zstd\n",
    "import mmap\n",
    "import struct\n",
    "from typing import Any, SupportsIndex\n",
    "from apache_beam import coders\n",
    "\n",
    "NUM_EPOCHS=5\n",
    "BATCH_SIZE = 2**1\n",
    "LR = 0.1\n",
    "LEN_FEN_BATCHES = 2\n",
    "SAVE_EVERY = 10\n",
    "num_positions = BATCH_SIZE*LEN_FEN_BATCHES\n",
    "\n",
    "pychess = chess.Board()\n",
    "pychess.reset()"
   ]
  },
  {
   "cell_type": "code",
   "execution_count": 2,
   "metadata": {},
   "outputs": [],
   "source": [
    "file = BagFileReader(\"searchless_chess/state_value_data.bag\")\n",
    "coding = coders.TupleCoder((coders.StrUtf8Coder(),coders.FloatCoder()))\n",
    "\n",
    "data = {}\n",
    "list_of_fen = []\n",
    "list_of_evals = []\n",
    "\n",
    "for i in range(num_positions):\n",
    "    # fen = str(file[i]).split(\"\\\\\")[0][3::].strip()\n",
    "    fen, win_prob = coding.decode(file[i])\n",
    "    # print(fen,win_prob)\n",
    "    if is_white_turn(fen):    \n",
    "        data[fen] = win_prob_to_eval(win_prob)\n",
    "    else:\n",
    "        data[fen] = win_prob_to_eval(1 - win_prob)\n",
    "    \n",
    "list_of_fen = list(data.keys())\n",
    "list_of_evals = list(data.values())"
   ]
  },
  {
   "cell_type": "code",
   "execution_count": 3,
   "metadata": {},
   "outputs": [
    {
     "data": {
      "text/plain": [
       "Text(0.5, 0, 'Epochs/Steps')"
      ]
     },
     "execution_count": 3,
     "metadata": {},
     "output_type": "execute_result"
    },
    {
     "data": {
      "image/png": "[encoded data removed]",
      "text/plain": [
       "<Figure size 640x480 with 1 Axes>"
      ]
     },
     "metadata": {},
     "output_type": "display_data"
    }
   ],
   "source": [
    "schedule = optax.warmup_cosine_decay_schedule(\n",
    "    init_value=0.001,\n",
    "    peak_value=0.1,\n",
    "    warmup_steps=NUM_EPOCHS*0.4*LEN_FEN_BATCHES,\n",
    "    decay_steps=NUM_EPOCHS*LEN_FEN_BATCHES,\n",
    "    end_value=0.001\n",
    ")\n",
    "\n",
    "lrs = [schedule(i) for i in range(0,NUM_EPOCHS*LEN_FEN_BATCHES,NUM_EPOCHS*1000)]\n",
    "import matplotlib.pyplot as plt\n",
    "\n",
    "plt.scatter(range(0,NUM_EPOCHS*LEN_FEN_BATCHES,NUM_EPOCHS*1000), lrs)\n",
    "plt.title(\"Warmup Cosine Decay Scheduler\")\n",
    "plt.ylabel(\"Learning Rate\")\n",
    "plt.xlabel(\"Epochs/Steps\")"
   ]
  },
  {
   "cell_type": "code",
   "execution_count": 4,
   "metadata": {},
   "outputs": [],
   "source": [
    "# model_1 = restore_model(WS_DIR + \"/checkpoints\")\n",
    "model_1 = create_model()\n"
   ]
  },
  {
   "cell_type": "code",
   "execution_count": 5,
   "metadata": {},
   "outputs": [],
   "source": [
    "# model_2 = create_model()\n",
    "optimizer = nnx.Optimizer(model_1, optax.adam(schedule))  # reference sharing\n",
    "# optimizer = nnx.Optimizer(model_1, optax.adam(LR))  # reference sharing\n",
    "\n",
    "@nnx.jit  # Automatic state management\n",
    "def train_step(model, optimizer: nnx.Optimizer, x_and_y_batch):\n",
    "    x_batch, y_batch = x_and_y_batch\n",
    "    def loss_fn(model):\n",
    "        y_pred = batched_model(model, x_batch)\n",
    "        result = jnp.mean((y_pred.flatten() - y_batch.flatten())**2)\n",
    "        # result = optax.losses.squared_error(y_pred.flatten(), y_batch.flatten()).mean()\n",
    "        # print(result)\n",
    "        return result\n",
    "\n",
    "    loss, grads = nnx.value_and_grad(loss_fn)(model)\n",
    "    optimizer.update(grads)  # In place updates.\n",
    "    # print(model(x))\n",
    "    return loss,grads\n",
    "\n",
    "\n",
    "\n",
    "# metrics = nnx.MultiMetric(\n",
    "#   loss=nnx.metrics.Average('loss'),\n",
    "# )\n",
    "# # Defines the loss function using `optax.softmax_cross_entropy_with_integer_labels`.\n",
    "# def loss_fn(model, batch):\n",
    "#     logits = jitted_batched_apply(model, batch[0])\n",
    "#     # loss = optax.softmax_cross_entropy_with_integer_labels(logits=logits, labels=batch[1]).mean()\n",
    "#     loss = optax.losses.squared_error(predictions=logits,targets=batch[1])\n",
    "#     return loss, logits\n",
    "\n",
    "# # Define the training step with the `flax.nnx.jit` transformation decorator.\n",
    "# # @nnx.jit\n",
    "# def train_step(model: Model, optimizer: nnx.Optimizer, metrics: nnx.MultiMetric, batch):\n",
    "#     grad_fn = nnx.value_and_grad(loss_fn, has_aux=False)\n",
    "#     (loss, logits), grads = grad_fn(model, batch)\n",
    "#     metrics.update(loss=loss, logits=logits, labels=batch[1])\n",
    "#     optimizer.update(grads)\n",
    "    \n",
    "    \n",
    "    \n",
    "\n",
    "fen_batches = [list_of_fen[i:i + BATCH_SIZE] for i in range(0, len(list_of_fen), BATCH_SIZE)]\n",
    "eval_batches = [list_of_evals[i:i + BATCH_SIZE] for i in range(0, len(list_of_evals), BATCH_SIZE)]\n",
    "\n",
    "\n",
    "x = list_of_fen_to_board_flattened(fen_batches[0])\n",
    "y = jnp.array(eval_batches[0])\n"
   ]
  },
  {
   "cell_type": "code",
   "execution_count": 6,
   "metadata": {},
   "outputs": [
    {
     "name": "stdout",
     "output_type": "stream",
     "text": [
      "prediction: 7.181102752685547, correct_value: 3.8499999046325684\n",
      "prediction: 4.203405857086182, correct_value: -2.5899999141693115\n",
      "MSE = 28.623302459716797\n"
     ]
    }
   ],
   "source": [
    "y_pred = batched_model(model_1, x)\n",
    "y_batch =y \n",
    "for i in range(BATCH_SIZE):\n",
    "    print(f\"prediction: {y_pred[i].item()}, correct_value: {y[i].item()}\")\n",
    "print(f\"MSE = {((y_pred.flatten() - y.flatten())**2).mean()}\")"
   ]
  },
  {
   "cell_type": "code",
   "execution_count": 7,
   "metadata": {},
   "outputs": [
    {
     "data": {
      "text/plain": [
       "OptArray( # 1 (4 B)\n",
       "  value=Array(0, dtype=int32)\n",
       ")"
      ]
     },
     "execution_count": 7,
     "metadata": {},
     "output_type": "execute_result"
    }
   ],
   "source": [
    "optimizer.opt_state[0].count\n",
    "# schedule(5)"
   ]
  },
  {
   "cell_type": "code",
   "execution_count": 8,
   "metadata": {},
   "outputs": [
    {
     "name": "stdout",
     "output_type": "stream",
     "text": [
      "currently on epoch=0, train_loss/LEN_FEN_BATCHES=Array(98.907776, dtype=float32)\n",
      "currently on epoch=1, train_loss/LEN_FEN_BATCHES=Array(146.27878, dtype=float32)\n",
      "currently on epoch=2, train_loss/LEN_FEN_BATCHES=Array(146.27878, dtype=float32)\n",
      "currently on epoch=3, train_loss/LEN_FEN_BATCHES=Array(146.27878, dtype=float32)\n",
      "currently on epoch=4, train_loss/LEN_FEN_BATCHES=Array(146.27878, dtype=float32)\n"
     ]
    },
    {
     "data": {
      "text/plain": [
       "Array([[-10.],\n",
       "       [-10.]], dtype=float32)"
      ]
     },
     "execution_count": 8,
     "metadata": {},
     "output_type": "execute_result"
    }
   ],
   "source": [
    "for epoch in range(NUM_EPOCHS):\n",
    "    acc_loss = 0\n",
    "    train_loss=0\n",
    "    for i in range(len(fen_batches)):\n",
    "        \n",
    "        x_batch = list_of_fen_to_board_flattened(fen_batches[i])\n",
    "\n",
    "        y_batch = jnp.array(eval_batches[i]).flatten()\n",
    "        # print(x,y)\n",
    "\n",
    "        losses, grads = train_step(\n",
    "            model_1,\n",
    "            optimizer,\n",
    "            jax.device_put((x_batch, y_batch))\n",
    "        )\n",
    "        \n",
    "        train_loss+=losses\n",
    "        \n",
    "    print(f\"currently on {epoch=}, {train_loss/LEN_FEN_BATCHES=}\")\n",
    "    if epoch%SAVE_EVERY ==SAVE_EVERY-1:\n",
    "        save_model(model_1, WS_DIR+f\"/checkpoints/checkpoint_epoch_{epoch}\")\n",
    "    \n",
    "batched_model(model_1, x)"
   ]
  },
  {
   "cell_type": "code",
   "execution_count": 9,
   "metadata": {},
   "outputs": [],
   "source": [
    "# save_model(model_1, WS_DIR+f\"/checkpoints\")"
   ]
  }
 ],
 "metadata": {
  "kernelspec": {
   "display_name": "Python 3",
   "language": "python",
   "name": "python3"
  },
  "language_info": {
   "codemirror_mode": {
    "name": "ipython",
    "version": 3
   },
   "file_extension": ".py",
   "mimetype": "text/x-python",
   "name": "python",
   "nbconvert_exporter": "python",
   "pygments_lexer": "ipython3",
   "version": "3.10.12"
  }
 },
 "nbformat": 4,
 "nbformat_minor": 2
}
